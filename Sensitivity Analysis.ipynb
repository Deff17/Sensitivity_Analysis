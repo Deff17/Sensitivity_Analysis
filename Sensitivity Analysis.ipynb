{
 "cells": [
  {
   "cell_type": "code",
   "execution_count": 13,
   "metadata": {},
   "outputs": [],
   "source": [
    "from SALib.plotting.bar import plot as barplot\n",
    "from SALib.sample import saltelli, fast_sampler, morris as morris_sample\n",
    "from SALib.analyze import sobol, fast, morris\n",
    "from SALib.test_functions import Ishigami\n",
    "import numpy as np\n",
    "import math\n"
   ]
  },
  {
   "cell_type": "code",
   "execution_count": 14,
   "metadata": {},
   "outputs": [],
   "source": [
    "# Define the model inputs\n",
    "problem = {\n",
    "    'num_vars': 3,\n",
    "    'names': ['x1', 'x2', 'x3'],\n",
    "    'bounds': [[-3.14159265359, 3.14159265359],\n",
    "               [-3.14159265359, 3.14159265359],\n",
    "               [-3.14159265359, 3.14159265359]]\n",
    "}"
   ]
  },
  {
   "cell_type": "code",
   "execution_count": 15,
   "metadata": {},
   "outputs": [],
   "source": [
    "# Generate samples for SOBOL\n",
    "param_values_sobol = saltelli.sample(problem, 1000)"
   ]
  },
  {
   "cell_type": "code",
   "execution_count": 16,
   "metadata": {},
   "outputs": [],
   "source": [
    "Y_Ishigami_sobol = Ishigami.evaluate(param_values_sobol)"
   ]
  },
  {
   "cell_type": "code",
   "execution_count": 17,
   "metadata": {},
   "outputs": [
    {
     "name": "stdout",
     "output_type": "stream",
     "text": [
      "Parameter S1 S1_conf ST ST_conf\n",
      "x1 0.307975 0.056858 0.560137 0.085794\n",
      "x2 0.447767 0.054847 0.438722 0.041347\n",
      "x3 -0.004255 0.052905 0.242845 0.024708\n",
      "\n",
      "Parameter_1 Parameter_2 S2 S2_conf\n",
      "x1 x2 0.012205 0.087715\n",
      "x1 x3 0.251526 0.102267\n",
      "x2 x3 -0.009954 0.069689\n"
     ]
    }
   ],
   "source": [
    "# SOBOL METHOD\n",
    "Si_sobol = sobol.analyze(problem, Y_Ishigami_sobol, print_to_console=True)"
   ]
  },
  {
   "cell_type": "code",
   "execution_count": 18,
   "metadata": {},
   "outputs": [],
   "source": [
    "#FAST - Fourier Amplitude Sensitivity Test\n",
    "X_FAST = fast_sampler.sample(problem, 1000)"
   ]
  },
  {
   "cell_type": "code",
   "execution_count": 19,
   "metadata": {},
   "outputs": [],
   "source": [
    "Y_FAST = Ishigami.evaluate(X_FAST)"
   ]
  },
  {
   "cell_type": "code",
   "execution_count": 20,
   "metadata": {},
   "outputs": [
    {
     "name": "stdout",
     "output_type": "stream",
     "text": [
      "Parameter First Total\n",
      "x1 0.315091 0.564279\n",
      "x2 0.442379 0.469340\n",
      "x3 0.000000 0.239239\n"
     ]
    }
   ],
   "source": [
    "Si_FAST = fast.analyze(problem, Y_FAST, print_to_console=True)"
   ]
  },
  {
   "cell_type": "code",
   "execution_count": 21,
   "metadata": {},
   "outputs": [],
   "source": [
    "#Samples for morris test\n",
    "X_morris = morris_sample.sample(problem, 1000, num_levels=4)"
   ]
  },
  {
   "cell_type": "code",
   "execution_count": 22,
   "metadata": {},
   "outputs": [],
   "source": [
    "Y_morris = Ishigami.evaluate(X_morris)"
   ]
  },
  {
   "cell_type": "code",
   "execution_count": 23,
   "metadata": {},
   "outputs": [
    {
     "name": "stdout",
     "output_type": "stream",
     "text": [
      "Parameter                         Mu_Star         Mu    Mu_Star_Conf      Sigma\n",
      "x1                                  7.754      7.754           0.385      6.252\n",
      "x2                                  7.875      0.110           0.000      7.878\n",
      "x3                                  5.911     -0.137           0.383      8.598\n"
     ]
    }
   ],
   "source": [
    "Si = morris.analyze(problem, X_morris, Y_morris, conf_level=0.95, print_to_console=True, num_levels=4)"
   ]
  },
  {
   "cell_type": "code",
   "execution_count": 24,
   "metadata": {},
   "outputs": [],
   "source": [
    "from scipy import integrate\n",
    "import pylab as p"
   ]
  },
  {
   "cell_type": "code",
   "execution_count": 25,
   "metadata": {},
   "outputs": [],
   "source": [
    "# Define the model inputs\n",
    "problem = {\n",
    "    'num_vars': 2,\n",
    "    'names': ['alfa', 'beta'],\n",
    "    'bounds': [[0.75, 1.25],\n",
    "               [0.15, 0.25]]\n",
    "}"
   ]
  },
  {
   "cell_type": "code",
   "execution_count": 30,
   "metadata": {},
   "outputs": [],
   "source": [
    "# Generate samples\n",
    "param_values = saltelli.sample(problem, 10)\n",
    "simulationSteps = 100"
   ]
  },
  {
   "cell_type": "code",
   "execution_count": 27,
   "metadata": {},
   "outputs": [],
   "source": [
    "def dX_dt(X, t, a, b, c, d):\n",
    "    \"\"\" Return the growth rate of fox and rabbit populations. \"\"\"\n",
    "    return np.array([ a*X[0] - b*X[0]*X[1] ,\n",
    "                  -c*X[1] + d*b*X[0]*X[1] ])"
   ]
  },
  {
   "cell_type": "code",
   "execution_count": 28,
   "metadata": {},
   "outputs": [],
   "source": [
    "def model(values, step):\n",
    "    Y = np.zeros([values.shape[0]])\n",
    "\n",
    "    gamma = 1.5\n",
    "    delta = 0.75\n",
    "\n",
    "    for i, X in enumerate(values):\n",
    "        x = 10\n",
    "        y = 5\n",
    "        PP = np.array([x, y])\n",
    "        t = np.linspace(0, 15,  simulationSteps) \n",
    "        alfa = X[0]\n",
    "        beta = X[1]\n",
    "        \n",
    "        PPafterT, infodict = integrate.odeint(dX_dt, PP, t, args=(alfa, beta, gamma, delta), full_output=True)\n",
    "\n",
    "        Y[i] = PPafterT[step][0]\n",
    "    return Y\n"
   ]
  },
  {
   "cell_type": "code",
   "execution_count": 32,
   "metadata": {},
   "outputs": [
    {
     "name": "stdout",
     "output_type": "stream",
     "text": [
      "[nan nan]\n",
      "[0.32479892 0.43707445]\n",
      "[0.2512345  0.50574835]\n",
      "[0.18643948 0.56535841]\n",
      "[0.12935248 0.61748258]\n",
      "[0.07879665 0.66389052]\n",
      "[0.03373477 0.7061796 ]\n",
      "[-0.00660705  0.74555919]\n",
      "[-0.04266248  0.78269777]\n",
      "[-0.0744457   0.81757189]\n",
      "[-0.10146498  0.8493082 ]\n",
      "[-0.12267866  0.87607952]\n",
      "[-0.13658419  0.89517223]\n",
      "[-0.14151701  0.90333155]\n",
      "[-0.13613228  0.89737636]\n",
      "[-0.11989513  0.87490271]\n",
      "[-0.09334187  0.83480031]\n",
      "[-0.05797593  0.77737771]\n",
      "[-0.01584729  0.70407838]\n",
      "[0.03101764 0.61695033]\n",
      "[0.0811639  0.51813412]\n",
      "[0.1341121 0.4096264]\n",
      "[0.19053471 0.29345644]\n",
      "[0.25214014 0.17223774]\n",
      "[0.32122958 0.04991737]\n",
      "[ 0.39994343 -0.06751769]\n",
      "[ 0.48928261 -0.17165519]\n",
      "[ 0.5880748 -0.2519361]\n",
      "[ 0.69214253 -0.29692434]\n",
      "[ 0.79380141 -0.29643735]\n",
      "[ 0.88085004 -0.24326165]\n",
      "[ 0.93180017 -0.1323465 ]\n",
      "[0.90373752 0.04087852]\n",
      "[0.73579839 0.26557467]\n",
      "[0.44829999 0.47560942]\n",
      "[0.20047362 0.59769924]\n",
      "[0.06966345 0.64937812]\n",
      "[0.01034619 0.67619479]\n",
      "[-0.02466134  0.69853402]\n",
      "[-0.05649269  0.72124677]\n",
      "[-0.09185418  0.74469105]\n",
      "[-0.13127987  0.76815775]\n",
      "[-0.17226576  0.79046362]\n",
      "[-0.21043021  0.81002471]\n",
      "[-0.24046508  0.82502395]\n",
      "[-0.25743193  0.83365449]\n",
      "[-0.25809378  0.83424683]\n",
      "[-0.24166686  0.82523813]\n",
      "[-0.20975148  0.80518388]\n",
      "[-0.16573425  0.7730165 ]\n",
      "[-0.11408506  0.72848858]\n",
      "[-0.0597563   0.67248521]\n",
      "[-0.00768469  0.60690674]\n",
      "[0.0376561  0.53410096]\n",
      "[0.07268657 0.45613195]\n",
      "[0.09516913 0.37427692]\n",
      "[0.10469896 0.28900411]\n",
      "[0.10319825 0.20045499]\n",
      "[0.09526209 0.10929283]\n",
      "[0.08812886 0.01774247]\n",
      "[ 0.09105922 -0.06930014]\n",
      "[ 0.1139438  -0.14313844]\n",
      "[ 0.16488135 -0.19025405]\n",
      "[ 0.24626035 -0.19220982]\n",
      "[ 0.34926501 -0.12912092]\n",
      "[0.44978602 0.00942648]\n",
      "[0.51405352 0.20872993]\n",
      "[0.51788675 0.42660481]\n",
      "[0.462565   0.61683601]\n",
      "[0.36825072 0.75528172]\n",
      "[0.25594155 0.842207  ]\n",
      "[0.13795029 0.88894726]\n",
      "[0.01903116 0.90689262]\n",
      "[-0.09866609  0.90374849]\n",
      "[-0.21123167  0.88444193]\n",
      "[-0.31110149  0.85366275]\n",
      "[-0.38855105  0.81767366]\n",
      "[-0.43561404  0.78376033]\n",
      "[-0.44926757  0.7576891 ]\n",
      "[-0.43151859  0.74138958]\n",
      "[-0.3872438   0.73253383]\n",
      "[-0.32211418  0.725844  ]\n",
      "[-0.24177543  0.71512897]\n",
      "[-0.15198118  0.69527545]\n",
      "[-0.05890637  0.66369477]\n",
      "[0.0308613  0.62082597]\n",
      "[0.11069104 0.56954305]\n",
      "[0.17438434 0.51378212]\n",
      "[0.21653068 0.45704589]\n",
      "[0.23279528 0.40138375]\n",
      "[0.2204594  0.34712414]\n",
      "[0.17953273 0.29338651]\n",
      "[0.11438096 0.23934687]\n",
      "[0.03519798 0.18618695]\n",
      "[-0.0418657   0.13929849]\n",
      "[-0.09729698  0.10943009]\n",
      "[-0.11440038  0.11054076]\n",
      "[-0.08739601  0.15325408]\n",
      "[-0.02559717  0.23763566]\n",
      "[0.05139895 0.35227503]\n"
     ]
    },
    {
     "data": {
      "image/png": "[encoded data removed]",
      "text/plain": [
       "<Figure size 432x288 with 1 Axes>"
      ]
     },
     "metadata": {
      "needs_background": "light"
     },
     "output_type": "display_data"
    }
   ],
   "source": [
    "sensitivity = []\n",
    "all = []\n",
    "for i in range(simulationSteps):\n",
    "    Y = model(param_values, i)\n",
    "    Si = sobol.analyze(problem, Y, print_to_console=False)\n",
    "    print(Si['S1'])\n",
    "    sensitivity.append(Si['S1'])\n",
    "    all.append(Si['S2'][0,1])\n",
    "\n",
    "alfaSensitivity = [sensitivity[i][0] for i in range(simulationSteps)]\n",
    "betaSensitivity = [sensitivity[i][1] for i in range(simulationSteps)]\n",
    "\n",
    "\n",
    "t = np.linspace(0, 15,  simulationSteps)\n",
    "\n",
    "f1 = p.figure()\n",
    "p.plot(t, alfaSensitivity, 'r-', label='alfa')\n",
    "p.plot(t, betaSensitivity, 'b-', label='beta')\n",
    "p.plot(t, all, 'g-', label='all')\n",
    "p.grid()\n",
    "p.legend(loc='best')\n",
    "p.xlabel('time')\n",
    "p.ylabel('sensitivness')\n",
    "p.title('Sensitivness of alfa & beta in time')\n",
    "f1.savefig('pred-prey-alfa-beta.png')"
   ]
  },
  {
   "cell_type": "code",
   "execution_count": null,
   "metadata": {},
   "outputs": [],
   "source": []
  }
 ],
 "metadata": {
  "kernelspec": {
   "display_name": "Python 3",
   "language": "python",
   "name": "python3"
  },
  "language_info": {
   "codemirror_mode": {
    "name": "ipython",
    "version": 3
   },
   "file_extension": ".py",
   "mimetype": "text/x-python",
   "name": "python",
   "nbconvert_exporter": "python",
   "pygments_lexer": "ipython3",
   "version": "3.7.5"
  }
 },
 "nbformat": 4,
 "nbformat_minor": 2
}
