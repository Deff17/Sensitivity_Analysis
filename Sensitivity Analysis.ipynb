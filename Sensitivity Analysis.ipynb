{
 "cells": [
  {
   "cell_type": "markdown",
   "metadata": {},
   "source": [
    "# Sensitivity analysis"
   ]
  },
  {
   "cell_type": "markdown",
   "metadata": {},
   "source": [
    "## Biblioteka SALib i funkcja Ishigami"
   ]
  },
  {
   "cell_type": "code",
   "execution_count": 5,
   "metadata": {},
   "outputs": [
    {
     "name": "stdout",
     "output_type": "stream",
     "text": [
      "The autotime extension is already loaded. To reload it, use:\n",
      "  %reload_ext autotime\n",
      "time: 2.26 ms\n"
     ]
    }
   ],
   "source": [
    "# import libraries\n",
    "%load_ext autotime\n",
    "from SALib.plotting.bar import plot as barplot\n",
    "from SALib.sample import saltelli, fast_sampler, morris as morris_sample\n",
    "from SALib.analyze import sobol, fast, morris\n",
    "from SALib.test_functions import Ishigami\n",
    "import numpy as np\n",
    "import math"
   ]
  },
  {
   "cell_type": "code",
   "execution_count": 6,
   "metadata": {},
   "outputs": [
    {
     "name": "stdout",
     "output_type": "stream",
     "text": [
      "time: 874 µs\n"
     ]
    }
   ],
   "source": [
    "# Define the model inputs\n",
    "problem = {\n",
    "    'num_vars': 3,\n",
    "    'names': ['x1', 'x2', 'x3'],\n",
    "    'bounds': [[-3.14159265359, 3.14159265359],\n",
    "               [-3.14159265359, 3.14159265359],\n",
    "               [-3.14159265359, 3.14159265359]]\n",
    "}"
   ]
  },
  {
   "cell_type": "code",
   "execution_count": 7,
   "metadata": {},
   "outputs": [
    {
     "name": "stdout",
     "output_type": "stream",
     "text": [
      "time: 57.4 ms\n"
     ]
    }
   ],
   "source": [
    "# Generate samples for SOBOL\n",
    "param_values_sobol = saltelli.sample(problem, 1000)"
   ]
  },
  {
   "cell_type": "code",
   "execution_count": 8,
   "metadata": {},
   "outputs": [
    {
     "name": "stdout",
     "output_type": "stream",
     "text": [
      "time: 16.5 ms\n"
     ]
    }
   ],
   "source": [
    "# Evaluate Ishigami model\n",
    "Y_Ishigami_sobol = Ishigami.evaluate(param_values_sobol)"
   ]
  },
  {
   "cell_type": "code",
   "execution_count": 9,
   "metadata": {},
   "outputs": [
    {
     "name": "stdout",
     "output_type": "stream",
     "text": [
      "Parameter S1 S1_conf ST ST_conf\n",
      "x1 0.307975 0.057618 0.560137 0.081903\n",
      "x2 0.447767 0.050202 0.438722 0.035571\n",
      "x3 -0.004255 0.051709 0.242845 0.026379\n",
      "\n",
      "Parameter_1 Parameter_2 S2 S2_conf\n",
      "x1 x2 0.012205 0.081733\n",
      "x1 x3 0.251526 0.102452\n",
      "x2 x3 -0.009954 0.066096\n",
      "time: 41.8 ms\n"
     ]
    }
   ],
   "source": [
    "# SOBOL METHOD\n",
    "Si_sobol = sobol.analyze(problem, Y_Ishigami_sobol, print_to_console=True)"
   ]
  },
  {
   "cell_type": "markdown",
   "metadata": {},
   "source": [
    "__Zadanie 1:__ Użyj innych algorytmów do tworzenia próbek i analizowania modelu dostępnych w SALib, przeanalizuj otrzymane wyniki a także czas wykonania algorytmów analizujących. - https://salib.readthedocs.io/en/latest/api.html. Wskazówka: dla metody fast należy użyć samplera fast_sampler, a dla metody morris samplera morris_sample."
   ]
  },
  {
   "cell_type": "code",
   "execution_count": null,
   "metadata": {},
   "outputs": [],
   "source": []
  },
  {
   "cell_type": "markdown",
   "metadata": {},
   "source": [
    "## Użycie własnego modelu w bibliotece SALib\n",
    "\n",
    "Poniżej został pokazany przykład badania wrażliwości modelu Net Present Value (https://www.wallstreetmojo.com/net-present-value-npv-formula). Badamy zrażliwość modelu na początkowy koszt inwestycji i na wpływy środków w czasie (zakładamy stały dopływ środków). "
   ]
  },
  {
   "cell_type": "code",
   "execution_count": 10,
   "metadata": {},
   "outputs": [
    {
     "name": "stdout",
     "output_type": "stream",
     "text": [
      "Parameter S1 S1_conf ST ST_conf\n",
      "x1 0.000000 0.000000 0.000000 0.000000\n",
      "x2 0.000000 0.000000 0.000000 0.000000\n",
      "\n",
      "Parameter_1 Parameter_2 S2 S2_conf\n",
      "x1 x2 0.000000 0.000000\n",
      "time: 81.8 ms\n"
     ]
    }
   ],
   "source": [
    "def evaluate(values):\n",
    "    Y = np.zeros([values.shape[0]])\n",
    "    t = 5\n",
    "    R = 0.1\n",
    "    \n",
    "    for i, X in enumerate(values):\n",
    "        sum = 0\n",
    "        for i in range(t):\n",
    "            sum += X[0]/((1 + R) ** i - X[1])\n",
    "        Y[i] = sum\n",
    "    return Y\n",
    "\n",
    "# Define the model inputs\n",
    "problem = {\n",
    "    'num_vars': 2,\n",
    "    'names': ['x1', 'x2',],\n",
    "    'bounds': [[10, 100],\n",
    "               [10, 1000]]\n",
    "}\n",
    "# Generate samples for SOBOL\n",
    "param_values_sobol = saltelli.sample(problem, 1000)\n",
    "# Evaluate Ishigami model\n",
    "Y_Ishigami_sobol = evaluate(param_values_sobol)\n",
    "# SOBOL METHOD\n",
    "Si_sobol = sobol.analyze(problem, Y_Ishigami_sobol, print_to_console=True)"
   ]
  },
  {
   "cell_type": "markdown",
   "metadata": {},
   "source": [
    "__Zadanie 2:__ Zaimplementować własny model fizyczny/matematyczny/biznesowy i zbadać jego wrażliwość. Np: Dividend discount model (https://en.wikipedia.org/wiki/Dividend_discount_model)"
   ]
  },
  {
   "cell_type": "code",
   "execution_count": null,
   "metadata": {},
   "outputs": [],
   "source": []
  },
  {
   "cell_type": "markdown",
   "metadata": {},
   "source": [
    "## Predator-prey model"
   ]
  },
  {
   "cell_type": "code",
   "execution_count": 11,
   "metadata": {},
   "outputs": [
    {
     "name": "stdout",
     "output_type": "stream",
     "text": [
      "time: 160 ms\n"
     ]
    }
   ],
   "source": [
    "from scipy import integrate\n",
    "import pylab as p"
   ]
  },
  {
   "cell_type": "code",
   "execution_count": 12,
   "metadata": {},
   "outputs": [
    {
     "name": "stdout",
     "output_type": "stream",
     "text": [
      "time: 675 µs\n"
     ]
    }
   ],
   "source": [
    "simulationSteps = 100\n",
    "startSimulationTime = 0\n",
    "endSimulationTime = 15\n",
    "sampleNum = 100"
   ]
  },
  {
   "cell_type": "code",
   "execution_count": 13,
   "metadata": {},
   "outputs": [
    {
     "name": "stdout",
     "output_type": "stream",
     "text": [
      "time: 3.24 ms\n"
     ]
    }
   ],
   "source": [
    "class PredatorPreyModel:\n",
    "    simulationsResults = []\n",
    "    initialPredatorPopulation = 10\n",
    "    initialPreyPopulation = 5\n",
    "    alfa = 1.\n",
    "    beta = 0.2\n",
    "    gamma = 1.5\n",
    "    delta = 0.75\n",
    "    \n",
    "    def dX_dt(self, X, t):\n",
    "          return np.array([ self.alfa*X[0] - self.beta*X[0]*X[1] ,\n",
    "                         -self.gamma*X[1] + self.delta*self.beta*X[0]*X[1] ])\n",
    "\n",
    "    def setupModel(self, values):\n",
    "        for i, X in enumerate(values):\n",
    "            # prey and pred populations at beginning\n",
    "            predatorPreyPopulations = np.array([self.initialPredatorPopulation, self.initialPreyPopulation])\n",
    "            t = np.linspace(startSimulationTime, endSimulationTime,  simulationSteps) \n",
    "            self.alfa = X[0] # !!! self.alfa, self.beta, self.gamma, self.delta\n",
    "            self.beta = X[1]\n",
    "\n",
    "            # calculate predator-prey \n",
    "            PPPolulationsAtStep, infodict = integrate.odeint(self.dX_dt, predatorPreyPopulations, t, full_output=True)\n",
    "            self.simulationsResults.append(PPPolulationsAtStep)\n",
    "\n",
    "    def getArrayOfModelValues(self, step):\n",
    "        Y = np.zeros([len(self.simulationsResults)])\n",
    "        for i in range(len(self.simulationsResults)):\n",
    "            Y[i] = self.simulationsResults[i][step][0] # [0] for predators, [1] for preys\n",
    "        return Y\n"
   ]
  },
  {
   "cell_type": "code",
   "execution_count": 14,
   "metadata": {},
   "outputs": [
    {
     "name": "stdout",
     "output_type": "stream",
     "text": [
      "time: 3.57 ms\n"
     ]
    }
   ],
   "source": [
    "class ModifiedPredatorPreyModel:\n",
    "    simulationsResults = []\n",
    "    initialPredatorPopulation = 10\n",
    "    initialPreyPopulation = 5\n",
    "    alfa = 1.\n",
    "    beta = 0.2\n",
    "    gamma = 1.5\n",
    "    delta = 0.75\n",
    "    K = 10\n",
    "    \n",
    "    def dX_dt(self, X, t):\n",
    "          return np.array([ self.alfa*X[0]*(1-X[0]/self.K) - self.beta*X[0]*X[1] ,\n",
    "                         -self.gamma*X[1] + self.delta*self.beta*X[0]*X[1] ])\n",
    "\n",
    "    def setupModel(self, values):\n",
    "        for i, X in enumerate(values):\n",
    "            # prey and pred populations at beginning\n",
    "            predatorPreyPopulations = np.array([self.initialPredatorPopulation, self.initialPreyPopulation])\n",
    "            t = np.linspace(startSimulationTime, endSimulationTime,  simulationSteps) \n",
    "            self.alfa = X[0] # !!! self.alfa, self.beta, self.gamma, self.delta\n",
    "            self.beta = X[1] # !!!\n",
    "\n",
    "            # calculate predator-prey \n",
    "            PPPolulationsAtStep, infodict = integrate.odeint(self.dX_dt, predatorPreyPopulations, t, full_output=True)\n",
    "            self.simulationsResults.append(PPPolulationsAtStep)\n",
    "\n",
    "    def getArrayOfModelValues(self, step):\n",
    "        Y = np.zeros([len(self.simulationsResults)])\n",
    "        for i in range(len(self.simulationsResults)):\n",
    "            Y[i] = self.simulationsResults[i][step][0] # [0] for predators, [1] for preys !!!\n",
    "        return Y"
   ]
  },
  {
   "cell_type": "code",
   "execution_count": 15,
   "metadata": {},
   "outputs": [
    {
     "name": "stdout",
     "output_type": "stream",
     "text": [
      "time: 905 µs\n"
     ]
    }
   ],
   "source": [
    "# Define the model inputs\n",
    "problem = {\n",
    "    'num_vars': 2,\n",
    "    'names': ['alfa', 'beta'],\n",
    "    'bounds': [[0.75, 1.25],\n",
    "               [0.15, 0.25]]\n",
    "}"
   ]
  },
  {
   "cell_type": "code",
   "execution_count": 16,
   "metadata": {},
   "outputs": [
    {
     "name": "stdout",
     "output_type": "stream",
     "text": [
      "time: 20.8 ms\n"
     ]
    }
   ],
   "source": [
    "# Generate samples\n",
    "param_values = saltelli.sample(problem, sampleNum)"
   ]
  },
  {
   "cell_type": "code",
   "execution_count": 17,
   "metadata": {},
   "outputs": [
    {
     "name": "stderr",
     "output_type": "stream",
     "text": [
      "/usr/local/lib/python3.7/site-packages/SALib/analyze/sobol.py:93: RuntimeWarning: invalid value encountered in true_divide\n",
      "  Y = (Y - Y.mean()) / Y.std()\n"
     ]
    },
    {
     "name": "stdout",
     "output_type": "stream",
     "text": [
      "time: 916 ms\n"
     ]
    }
   ],
   "source": [
    "# Calculate sensivitness for evry simulation step\n",
    "sensitivity = []\n",
    "alfaAndBetaSensitivity = []\n",
    "alfaSensitivity = []\n",
    "betaSensitivity = []\n",
    "\n",
    "model = PredatorPreyModel() # ModifiedPredatorPreyModel() !!!\n",
    "model.setupModel(param_values)\n",
    "\n",
    "for i in range(simulationSteps):\n",
    "    # get array of model values at time step 'i'\n",
    "    Y = model.getArrayOfModelValues(i)\n",
    "    # analyze these values using sobol method\n",
    "    Si = sobol.analyze(problem, Y, print_to_console=False)\n",
    "\n",
    "    alfaSensitivity.append(Si['S1'][0])\n",
    "    betaSensitivity.append(Si['S1'][1])\n",
    "    alfaAndBetaSensitivity.append(Si['S2'][0,1])"
   ]
  },
  {
   "cell_type": "code",
   "execution_count": 18,
   "metadata": {},
   "outputs": [
    {
     "data": {
      "text/plain": [
       "Text(0.5, 1.0, 'Sensitivness of alfa & beta in time for predator')"
      ]
     },
     "execution_count": 18,
     "metadata": {},
     "output_type": "execute_result"
    },
    {
     "data": {
      "image/png": "[encoded data removed]",
      "text/plain": [
       "<Figure size 432x288 with 1 Axes>"
      ]
     },
     "metadata": {
      "needs_background": "light"
     },
     "output_type": "display_data"
    },
    {
     "name": "stdout",
     "output_type": "stream",
     "text": [
      "time: 243 ms\n"
     ]
    }
   ],
   "source": [
    "# plot results\n",
    "t = np.linspace(startSimulationTime, endSimulationTime,  simulationSteps)\n",
    "f1 = p.figure()\n",
    "p.plot(t, alfaSensitivity, 'r-', label='alfa')\n",
    "p.plot(t, betaSensitivity, 'b-', label='beta')\n",
    "p.plot(t, alfaAndBetaSensitivity, 'g-', label='alfaAndBeta')\n",
    "p.grid()\n",
    "p.legend(loc='best')\n",
    "p.xlabel('time')\n",
    "p.ylabel('sensitivness')\n",
    "p.title('Sensitivness of alfa & beta in time for predator')"
   ]
  },
  {
   "cell_type": "markdown",
   "metadata": {},
   "source": [
    "__Zadanie 3:__ Zbadać wrażliwość zmiennych alfa, beta gamma, delta modelu predator-prey lub zmodyfikowanego model predator-prey. Należy zbadać to dla predator jak i dla prey."
   ]
  },
  {
   "cell_type": "code",
   "execution_count": null,
   "metadata": {},
   "outputs": [],
   "source": []
  }
 ],
 "metadata": {
  "kernelspec": {
   "display_name": "Python 3",
   "language": "python",
   "name": "python3"
  },
  "language_info": {
   "codemirror_mode": {
    "name": "ipython",
    "version": 3
   },
   "file_extension": ".py",
   "mimetype": "text/x-python",
   "name": "python",
   "nbconvert_exporter": "python",
   "pygments_lexer": "ipython3",
   "version": "3.7.5"
  }
 },
 "nbformat": 4,
 "nbformat_minor": 2
}
